{
 "cells": [
  {
   "cell_type": "markdown",
   "id": "49870e4b",
   "metadata": {},
   "source": [
    "# Fifa19 Exercise - Solutions\n",
    "\n",
    "Welcome to a quick exercise for you to practice your pandas skills! We will be using the [Fifa19 Dataset](https://www.kaggle.com/winterbreeze/fifa19eda) from Kaggle! Just follow along and complete the tasks outlined in bold below. The tasks will get harder and harder as you go along."
   ]
  },
  {
   "cell_type": "code",
   "execution_count": 1,
   "id": "08f11bf8",
   "metadata": {},
   "outputs": [],
   "source": [
    "import pandas as pd\n",
    "import numpy as np"
   ]
  },
  {
   "cell_type": "code",
   "execution_count": 2,
   "id": "5edd5a49",
   "metadata": {},
   "outputs": [
    {
     "data": {
      "text/html": [
       "<div>\n",
       "<style scoped>\n",
       "    .dataframe tbody tr th:only-of-type {\n",
       "        vertical-align: middle;\n",
       "    }\n",
       "\n",
       "    .dataframe tbody tr th {\n",
       "        vertical-align: top;\n",
       "    }\n",
       "\n",
       "    .dataframe thead th {\n",
       "        text-align: right;\n",
       "    }\n",
       "</style>\n",
       "<table border=\"1\" class=\"dataframe\">\n",
       "  <thead>\n",
       "    <tr style=\"text-align: right;\">\n",
       "      <th></th>\n",
       "      <th>ID</th>\n",
       "      <th>Name</th>\n",
       "      <th>Age</th>\n",
       "      <th>Nationality</th>\n",
       "      <th>Overall</th>\n",
       "      <th>Potential</th>\n",
       "      <th>Club</th>\n",
       "      <th>Value</th>\n",
       "      <th>Wage</th>\n",
       "      <th>Preferred Foot</th>\n",
       "      <th>International Reputation</th>\n",
       "      <th>Skill Moves</th>\n",
       "      <th>Position</th>\n",
       "      <th>Joined</th>\n",
       "      <th>Contract Valid Until</th>\n",
       "      <th>Height</th>\n",
       "      <th>Weight</th>\n",
       "      <th>Release Clause</th>\n",
       "    </tr>\n",
       "  </thead>\n",
       "  <tbody>\n",
       "    <tr>\n",
       "      <th>0</th>\n",
       "      <td>158023</td>\n",
       "      <td>L. Messi</td>\n",
       "      <td>31</td>\n",
       "      <td>Argentina</td>\n",
       "      <td>94</td>\n",
       "      <td>94</td>\n",
       "      <td>FC Barcelona</td>\n",
       "      <td>110500.0</td>\n",
       "      <td>565.0</td>\n",
       "      <td>Left</td>\n",
       "      <td>5.0</td>\n",
       "      <td>4.0</td>\n",
       "      <td>RF</td>\n",
       "      <td>2004</td>\n",
       "      <td>2021-01-01</td>\n",
       "      <td>5.583333</td>\n",
       "      <td>159.0</td>\n",
       "      <td>226500.0</td>\n",
       "    </tr>\n",
       "    <tr>\n",
       "      <th>1</th>\n",
       "      <td>20801</td>\n",
       "      <td>Cristiano Ronaldo</td>\n",
       "      <td>33</td>\n",
       "      <td>Portugal</td>\n",
       "      <td>94</td>\n",
       "      <td>94</td>\n",
       "      <td>Juventus</td>\n",
       "      <td>77000.0</td>\n",
       "      <td>405.0</td>\n",
       "      <td>Right</td>\n",
       "      <td>5.0</td>\n",
       "      <td>5.0</td>\n",
       "      <td>ST</td>\n",
       "      <td>2018</td>\n",
       "      <td>2022-01-01</td>\n",
       "      <td>6.166667</td>\n",
       "      <td>183.0</td>\n",
       "      <td>127100.0</td>\n",
       "    </tr>\n",
       "    <tr>\n",
       "      <th>2</th>\n",
       "      <td>190871</td>\n",
       "      <td>Neymar Jr</td>\n",
       "      <td>26</td>\n",
       "      <td>Brazil</td>\n",
       "      <td>92</td>\n",
       "      <td>93</td>\n",
       "      <td>Paris Saint-Germain</td>\n",
       "      <td>118500.0</td>\n",
       "      <td>290.0</td>\n",
       "      <td>Right</td>\n",
       "      <td>5.0</td>\n",
       "      <td>5.0</td>\n",
       "      <td>LW</td>\n",
       "      <td>2017</td>\n",
       "      <td>2022-01-01</td>\n",
       "      <td>5.750000</td>\n",
       "      <td>150.0</td>\n",
       "      <td>228100.0</td>\n",
       "    </tr>\n",
       "    <tr>\n",
       "      <th>3</th>\n",
       "      <td>193080</td>\n",
       "      <td>De Gea</td>\n",
       "      <td>27</td>\n",
       "      <td>Spain</td>\n",
       "      <td>91</td>\n",
       "      <td>93</td>\n",
       "      <td>Manchester United</td>\n",
       "      <td>72000.0</td>\n",
       "      <td>260.0</td>\n",
       "      <td>Right</td>\n",
       "      <td>4.0</td>\n",
       "      <td>1.0</td>\n",
       "      <td>GK</td>\n",
       "      <td>2011</td>\n",
       "      <td>2020-01-01</td>\n",
       "      <td>6.333333</td>\n",
       "      <td>168.0</td>\n",
       "      <td>138600.0</td>\n",
       "    </tr>\n",
       "    <tr>\n",
       "      <th>4</th>\n",
       "      <td>192985</td>\n",
       "      <td>K. De Bruyne</td>\n",
       "      <td>27</td>\n",
       "      <td>Belgium</td>\n",
       "      <td>91</td>\n",
       "      <td>92</td>\n",
       "      <td>Manchester City</td>\n",
       "      <td>102000.0</td>\n",
       "      <td>355.0</td>\n",
       "      <td>Right</td>\n",
       "      <td>4.0</td>\n",
       "      <td>4.0</td>\n",
       "      <td>RCM</td>\n",
       "      <td>2015</td>\n",
       "      <td>2023-01-01</td>\n",
       "      <td>5.916667</td>\n",
       "      <td>154.0</td>\n",
       "      <td>196400.0</td>\n",
       "    </tr>\n",
       "  </tbody>\n",
       "</table>\n",
       "</div>"
      ],
      "text/plain": [
       "       ID               Name  Age Nationality  Overall  Potential  \\\n",
       "0  158023           L. Messi   31   Argentina       94         94   \n",
       "1   20801  Cristiano Ronaldo   33    Portugal       94         94   \n",
       "2  190871          Neymar Jr   26      Brazil       92         93   \n",
       "3  193080             De Gea   27       Spain       91         93   \n",
       "4  192985       K. De Bruyne   27     Belgium       91         92   \n",
       "\n",
       "                  Club     Value   Wage Preferred Foot  \\\n",
       "0         FC Barcelona  110500.0  565.0           Left   \n",
       "1             Juventus   77000.0  405.0          Right   \n",
       "2  Paris Saint-Germain  118500.0  290.0          Right   \n",
       "3    Manchester United   72000.0  260.0          Right   \n",
       "4      Manchester City  102000.0  355.0          Right   \n",
       "\n",
       "   International Reputation  Skill Moves Position  Joined  \\\n",
       "0                       5.0          4.0       RF    2004   \n",
       "1                       5.0          5.0       ST    2018   \n",
       "2                       5.0          5.0       LW    2017   \n",
       "3                       4.0          1.0       GK    2011   \n",
       "4                       4.0          4.0      RCM    2015   \n",
       "\n",
       "  Contract Valid Until    Height  Weight  Release Clause  \n",
       "0           2021-01-01  5.583333   159.0        226500.0  \n",
       "1           2022-01-01  6.166667   183.0        127100.0  \n",
       "2           2022-01-01  5.750000   150.0        228100.0  \n",
       "3           2020-01-01  6.333333   168.0        138600.0  \n",
       "4           2023-01-01  5.916667   154.0        196400.0  "
      ]
     },
     "execution_count": 2,
     "metadata": {},
     "output_type": "execute_result"
    }
   ],
   "source": [
    "df = pd.read_csv(\"C:\\\\Users\\\\ElQaiaty Store\\\\Downloads\\\\fifa_eda\\\\fifa_eda.csv\")\n",
    "df.head()"
   ]
  },
  {
   "cell_type": "code",
   "execution_count": 3,
   "id": "18ec8de1",
   "metadata": {},
   "outputs": [
    {
     "name": "stdout",
     "output_type": "stream",
     "text": [
      "<class 'pandas.core.frame.DataFrame'>\n",
      "RangeIndex: 18207 entries, 0 to 18206\n",
      "Data columns (total 18 columns):\n",
      " #   Column                    Non-Null Count  Dtype  \n",
      "---  ------                    --------------  -----  \n",
      " 0   ID                        18207 non-null  int64  \n",
      " 1   Name                      18207 non-null  object \n",
      " 2   Age                       18207 non-null  int64  \n",
      " 3   Nationality               18207 non-null  object \n",
      " 4   Overall                   18207 non-null  int64  \n",
      " 5   Potential                 18207 non-null  int64  \n",
      " 6   Club                      17966 non-null  object \n",
      " 7   Value                     17955 non-null  float64\n",
      " 8   Wage                      18207 non-null  float64\n",
      " 9   Preferred Foot            18207 non-null  object \n",
      " 10  International Reputation  18159 non-null  float64\n",
      " 11  Skill Moves               18159 non-null  float64\n",
      " 12  Position                  18207 non-null  object \n",
      " 13  Joined                    18207 non-null  int64  \n",
      " 14  Contract Valid Until      17918 non-null  object \n",
      " 15  Height                    18207 non-null  float64\n",
      " 16  Weight                    18207 non-null  float64\n",
      " 17  Release Clause            18207 non-null  float64\n",
      "dtypes: float64(7), int64(5), object(6)\n",
      "memory usage: 2.5+ MB\n"
     ]
    }
   ],
   "source": [
    "df.info()"
   ]
  },
  {
   "cell_type": "code",
   "execution_count": 4,
   "id": "900f2547",
   "metadata": {},
   "outputs": [
    {
     "data": {
      "text/html": [
       "<div>\n",
       "<style scoped>\n",
       "    .dataframe tbody tr th:only-of-type {\n",
       "        vertical-align: middle;\n",
       "    }\n",
       "\n",
       "    .dataframe tbody tr th {\n",
       "        vertical-align: top;\n",
       "    }\n",
       "\n",
       "    .dataframe thead th {\n",
       "        text-align: right;\n",
       "    }\n",
       "</style>\n",
       "<table border=\"1\" class=\"dataframe\">\n",
       "  <thead>\n",
       "    <tr style=\"text-align: right;\">\n",
       "      <th></th>\n",
       "      <th>ID</th>\n",
       "      <th>Age</th>\n",
       "      <th>Overall</th>\n",
       "      <th>Potential</th>\n",
       "      <th>Value</th>\n",
       "      <th>Wage</th>\n",
       "      <th>International Reputation</th>\n",
       "      <th>Skill Moves</th>\n",
       "      <th>Joined</th>\n",
       "      <th>Height</th>\n",
       "      <th>Weight</th>\n",
       "      <th>Release Clause</th>\n",
       "    </tr>\n",
       "  </thead>\n",
       "  <tbody>\n",
       "    <tr>\n",
       "      <th>count</th>\n",
       "      <td>18207.000000</td>\n",
       "      <td>18207.000000</td>\n",
       "      <td>18207.000000</td>\n",
       "      <td>18207.000000</td>\n",
       "      <td>17955.000000</td>\n",
       "      <td>18207.000000</td>\n",
       "      <td>18159.000000</td>\n",
       "      <td>18159.000000</td>\n",
       "      <td>18207.000000</td>\n",
       "      <td>18207.000000</td>\n",
       "      <td>18207.000000</td>\n",
       "      <td>18207.000000</td>\n",
       "    </tr>\n",
       "    <tr>\n",
       "      <th>mean</th>\n",
       "      <td>214298.338606</td>\n",
       "      <td>25.122206</td>\n",
       "      <td>66.238699</td>\n",
       "      <td>71.307299</td>\n",
       "      <td>2444.530214</td>\n",
       "      <td>9.731312</td>\n",
       "      <td>1.113222</td>\n",
       "      <td>2.361308</td>\n",
       "      <td>2016.420607</td>\n",
       "      <td>5.946771</td>\n",
       "      <td>165.979129</td>\n",
       "      <td>4585.060971</td>\n",
       "    </tr>\n",
       "    <tr>\n",
       "      <th>std</th>\n",
       "      <td>29965.244204</td>\n",
       "      <td>4.669943</td>\n",
       "      <td>6.908930</td>\n",
       "      <td>6.136496</td>\n",
       "      <td>5626.715434</td>\n",
       "      <td>21.999290</td>\n",
       "      <td>0.394031</td>\n",
       "      <td>0.756164</td>\n",
       "      <td>2.018194</td>\n",
       "      <td>0.220514</td>\n",
       "      <td>15.572775</td>\n",
       "      <td>10630.414430</td>\n",
       "    </tr>\n",
       "    <tr>\n",
       "      <th>min</th>\n",
       "      <td>16.000000</td>\n",
       "      <td>16.000000</td>\n",
       "      <td>46.000000</td>\n",
       "      <td>48.000000</td>\n",
       "      <td>10.000000</td>\n",
       "      <td>0.000000</td>\n",
       "      <td>1.000000</td>\n",
       "      <td>1.000000</td>\n",
       "      <td>1991.000000</td>\n",
       "      <td>5.083333</td>\n",
       "      <td>110.000000</td>\n",
       "      <td>13.000000</td>\n",
       "    </tr>\n",
       "    <tr>\n",
       "      <th>25%</th>\n",
       "      <td>200315.500000</td>\n",
       "      <td>21.000000</td>\n",
       "      <td>62.000000</td>\n",
       "      <td>67.000000</td>\n",
       "      <td>325.000000</td>\n",
       "      <td>1.000000</td>\n",
       "      <td>1.000000</td>\n",
       "      <td>2.000000</td>\n",
       "      <td>2016.000000</td>\n",
       "      <td>5.750000</td>\n",
       "      <td>154.000000</td>\n",
       "      <td>570.000000</td>\n",
       "    </tr>\n",
       "    <tr>\n",
       "      <th>50%</th>\n",
       "      <td>221759.000000</td>\n",
       "      <td>25.000000</td>\n",
       "      <td>66.000000</td>\n",
       "      <td>71.000000</td>\n",
       "      <td>700.000000</td>\n",
       "      <td>3.000000</td>\n",
       "      <td>1.000000</td>\n",
       "      <td>2.000000</td>\n",
       "      <td>2017.000000</td>\n",
       "      <td>5.916667</td>\n",
       "      <td>165.000000</td>\n",
       "      <td>1300.000000</td>\n",
       "    </tr>\n",
       "    <tr>\n",
       "      <th>75%</th>\n",
       "      <td>236529.500000</td>\n",
       "      <td>28.000000</td>\n",
       "      <td>71.000000</td>\n",
       "      <td>75.000000</td>\n",
       "      <td>2100.000000</td>\n",
       "      <td>9.000000</td>\n",
       "      <td>1.000000</td>\n",
       "      <td>3.000000</td>\n",
       "      <td>2018.000000</td>\n",
       "      <td>6.083333</td>\n",
       "      <td>176.000000</td>\n",
       "      <td>4585.060806</td>\n",
       "    </tr>\n",
       "    <tr>\n",
       "      <th>max</th>\n",
       "      <td>246620.000000</td>\n",
       "      <td>45.000000</td>\n",
       "      <td>94.000000</td>\n",
       "      <td>95.000000</td>\n",
       "      <td>118500.000000</td>\n",
       "      <td>565.000000</td>\n",
       "      <td>5.000000</td>\n",
       "      <td>5.000000</td>\n",
       "      <td>2018.000000</td>\n",
       "      <td>6.750000</td>\n",
       "      <td>243.000000</td>\n",
       "      <td>228100.000000</td>\n",
       "    </tr>\n",
       "  </tbody>\n",
       "</table>\n",
       "</div>"
      ],
      "text/plain": [
       "                  ID           Age       Overall     Potential          Value  \\\n",
       "count   18207.000000  18207.000000  18207.000000  18207.000000   17955.000000   \n",
       "mean   214298.338606     25.122206     66.238699     71.307299    2444.530214   \n",
       "std     29965.244204      4.669943      6.908930      6.136496    5626.715434   \n",
       "min        16.000000     16.000000     46.000000     48.000000      10.000000   \n",
       "25%    200315.500000     21.000000     62.000000     67.000000     325.000000   \n",
       "50%    221759.000000     25.000000     66.000000     71.000000     700.000000   \n",
       "75%    236529.500000     28.000000     71.000000     75.000000    2100.000000   \n",
       "max    246620.000000     45.000000     94.000000     95.000000  118500.000000   \n",
       "\n",
       "               Wage  International Reputation   Skill Moves        Joined  \\\n",
       "count  18207.000000              18159.000000  18159.000000  18207.000000   \n",
       "mean       9.731312                  1.113222      2.361308   2016.420607   \n",
       "std       21.999290                  0.394031      0.756164      2.018194   \n",
       "min        0.000000                  1.000000      1.000000   1991.000000   \n",
       "25%        1.000000                  1.000000      2.000000   2016.000000   \n",
       "50%        3.000000                  1.000000      2.000000   2017.000000   \n",
       "75%        9.000000                  1.000000      3.000000   2018.000000   \n",
       "max      565.000000                  5.000000      5.000000   2018.000000   \n",
       "\n",
       "             Height        Weight  Release Clause  \n",
       "count  18207.000000  18207.000000    18207.000000  \n",
       "mean       5.946771    165.979129     4585.060971  \n",
       "std        0.220514     15.572775    10630.414430  \n",
       "min        5.083333    110.000000       13.000000  \n",
       "25%        5.750000    154.000000      570.000000  \n",
       "50%        5.916667    165.000000     1300.000000  \n",
       "75%        6.083333    176.000000     4585.060806  \n",
       "max        6.750000    243.000000   228100.000000  "
      ]
     },
     "execution_count": 4,
     "metadata": {},
     "output_type": "execute_result"
    }
   ],
   "source": [
    "df.describe()"
   ]
  },
  {
   "cell_type": "code",
   "execution_count": 5,
   "id": "8d00e349",
   "metadata": {},
   "outputs": [
    {
     "data": {
      "text/plain": [
       "ID                            0\n",
       "Name                          0\n",
       "Age                           0\n",
       "Nationality                   0\n",
       "Overall                       0\n",
       "Potential                     0\n",
       "Club                        241\n",
       "Value                       252\n",
       "Wage                          0\n",
       "Preferred Foot                0\n",
       "International Reputation     48\n",
       "Skill Moves                  48\n",
       "Position                      0\n",
       "Joined                        0\n",
       "Contract Valid Until        289\n",
       "Height                        0\n",
       "Weight                        0\n",
       "Release Clause                0\n",
       "dtype: int64"
      ]
     },
     "execution_count": 5,
     "metadata": {},
     "output_type": "execute_result"
    }
   ],
   "source": [
    "df.isna().sum()"
   ]
  },
  {
   "cell_type": "code",
   "execution_count": 6,
   "id": "db2b90db",
   "metadata": {},
   "outputs": [],
   "source": [
    "df['Contract Valid Until'] = pd.to_datetime(df['Contract Valid Until'])"
   ]
  },
  {
   "cell_type": "code",
   "execution_count": 8,
   "id": "c597ca7e",
   "metadata": {},
   "outputs": [
    {
     "data": {
      "text/html": [
       "<div>\n",
       "<style scoped>\n",
       "    .dataframe tbody tr th:only-of-type {\n",
       "        vertical-align: middle;\n",
       "    }\n",
       "\n",
       "    .dataframe tbody tr th {\n",
       "        vertical-align: top;\n",
       "    }\n",
       "\n",
       "    .dataframe thead th {\n",
       "        text-align: right;\n",
       "    }\n",
       "</style>\n",
       "<table border=\"1\" class=\"dataframe\">\n",
       "  <thead>\n",
       "    <tr style=\"text-align: right;\">\n",
       "      <th></th>\n",
       "      <th>ID</th>\n",
       "      <th>Name</th>\n",
       "      <th>Age</th>\n",
       "      <th>Nationality</th>\n",
       "      <th>Overall</th>\n",
       "      <th>Potential</th>\n",
       "      <th>Club</th>\n",
       "      <th>Value</th>\n",
       "      <th>Wage</th>\n",
       "      <th>Preferred Foot</th>\n",
       "      <th>International Reputation</th>\n",
       "      <th>Skill Moves</th>\n",
       "      <th>Position</th>\n",
       "      <th>Joined</th>\n",
       "      <th>Contract Valid Until</th>\n",
       "      <th>Height</th>\n",
       "      <th>Weight</th>\n",
       "      <th>Release Clause</th>\n",
       "    </tr>\n",
       "  </thead>\n",
       "  <tbody>\n",
       "    <tr>\n",
       "      <th>452</th>\n",
       "      <td>207439</td>\n",
       "      <td>L. Paredes</td>\n",
       "      <td>24</td>\n",
       "      <td>Argentina</td>\n",
       "      <td>80</td>\n",
       "      <td>85</td>\n",
       "      <td>NaN</td>\n",
       "      <td>NaN</td>\n",
       "      <td>0.0</td>\n",
       "      <td>Right</td>\n",
       "      <td>2.0</td>\n",
       "      <td>4.0</td>\n",
       "      <td>CM</td>\n",
       "      <td>2016</td>\n",
       "      <td>NaT</td>\n",
       "      <td>5.916667</td>\n",
       "      <td>165.0</td>\n",
       "      <td>4585.060806</td>\n",
       "    </tr>\n",
       "    <tr>\n",
       "      <th>538</th>\n",
       "      <td>156713</td>\n",
       "      <td>A. Granqvist</td>\n",
       "      <td>33</td>\n",
       "      <td>Sweden</td>\n",
       "      <td>80</td>\n",
       "      <td>80</td>\n",
       "      <td>NaN</td>\n",
       "      <td>NaN</td>\n",
       "      <td>0.0</td>\n",
       "      <td>Right</td>\n",
       "      <td>2.0</td>\n",
       "      <td>2.0</td>\n",
       "      <td>LCB</td>\n",
       "      <td>2016</td>\n",
       "      <td>NaT</td>\n",
       "      <td>6.333333</td>\n",
       "      <td>185.0</td>\n",
       "      <td>4585.060806</td>\n",
       "    </tr>\n",
       "    <tr>\n",
       "      <th>568</th>\n",
       "      <td>229909</td>\n",
       "      <td>A. Lunev</td>\n",
       "      <td>26</td>\n",
       "      <td>Russia</td>\n",
       "      <td>79</td>\n",
       "      <td>81</td>\n",
       "      <td>NaN</td>\n",
       "      <td>NaN</td>\n",
       "      <td>0.0</td>\n",
       "      <td>Right</td>\n",
       "      <td>1.0</td>\n",
       "      <td>1.0</td>\n",
       "      <td>GK</td>\n",
       "      <td>2016</td>\n",
       "      <td>NaT</td>\n",
       "      <td>6.166667</td>\n",
       "      <td>176.0</td>\n",
       "      <td>4585.060806</td>\n",
       "    </tr>\n",
       "    <tr>\n",
       "      <th>677</th>\n",
       "      <td>187347</td>\n",
       "      <td>I. Smolnikov</td>\n",
       "      <td>29</td>\n",
       "      <td>Russia</td>\n",
       "      <td>79</td>\n",
       "      <td>79</td>\n",
       "      <td>NaN</td>\n",
       "      <td>NaN</td>\n",
       "      <td>0.0</td>\n",
       "      <td>Right</td>\n",
       "      <td>2.0</td>\n",
       "      <td>3.0</td>\n",
       "      <td>RB</td>\n",
       "      <td>2016</td>\n",
       "      <td>NaT</td>\n",
       "      <td>5.833333</td>\n",
       "      <td>154.0</td>\n",
       "      <td>4585.060806</td>\n",
       "    </tr>\n",
       "    <tr>\n",
       "      <th>864</th>\n",
       "      <td>153260</td>\n",
       "      <td>Hilton</td>\n",
       "      <td>40</td>\n",
       "      <td>Brazil</td>\n",
       "      <td>78</td>\n",
       "      <td>78</td>\n",
       "      <td>Montpellier HSC</td>\n",
       "      <td>NaN</td>\n",
       "      <td>18.0</td>\n",
       "      <td>Right</td>\n",
       "      <td>2.0</td>\n",
       "      <td>3.0</td>\n",
       "      <td>CB</td>\n",
       "      <td>2011</td>\n",
       "      <td>2019-01-01</td>\n",
       "      <td>5.916667</td>\n",
       "      <td>172.0</td>\n",
       "      <td>4585.060806</td>\n",
       "    </tr>\n",
       "    <tr>\n",
       "      <th>...</th>\n",
       "      <td>...</td>\n",
       "      <td>...</td>\n",
       "      <td>...</td>\n",
       "      <td>...</td>\n",
       "      <td>...</td>\n",
       "      <td>...</td>\n",
       "      <td>...</td>\n",
       "      <td>...</td>\n",
       "      <td>...</td>\n",
       "      <td>...</td>\n",
       "      <td>...</td>\n",
       "      <td>...</td>\n",
       "      <td>...</td>\n",
       "      <td>...</td>\n",
       "      <td>...</td>\n",
       "      <td>...</td>\n",
       "      <td>...</td>\n",
       "      <td>...</td>\n",
       "    </tr>\n",
       "    <tr>\n",
       "      <th>17539</th>\n",
       "      <td>234508</td>\n",
       "      <td>C. Singh</td>\n",
       "      <td>21</td>\n",
       "      <td>India</td>\n",
       "      <td>53</td>\n",
       "      <td>62</td>\n",
       "      <td>NaN</td>\n",
       "      <td>NaN</td>\n",
       "      <td>0.0</td>\n",
       "      <td>Right</td>\n",
       "      <td>1.0</td>\n",
       "      <td>2.0</td>\n",
       "      <td>LB</td>\n",
       "      <td>2016</td>\n",
       "      <td>NaT</td>\n",
       "      <td>6.250000</td>\n",
       "      <td>174.0</td>\n",
       "      <td>4585.060806</td>\n",
       "    </tr>\n",
       "    <tr>\n",
       "      <th>17672</th>\n",
       "      <td>237744</td>\n",
       "      <td>R. Kawai</td>\n",
       "      <td>39</td>\n",
       "      <td>Japan</td>\n",
       "      <td>53</td>\n",
       "      <td>53</td>\n",
       "      <td>Hokkaido Consadole Sapporo</td>\n",
       "      <td>NaN</td>\n",
       "      <td>1.0</td>\n",
       "      <td>Right</td>\n",
       "      <td>1.0</td>\n",
       "      <td>2.0</td>\n",
       "      <td>CB</td>\n",
       "      <td>2011</td>\n",
       "      <td>2021-01-01</td>\n",
       "      <td>6.000000</td>\n",
       "      <td>165.0</td>\n",
       "      <td>4585.060806</td>\n",
       "    </tr>\n",
       "    <tr>\n",
       "      <th>17726</th>\n",
       "      <td>51963</td>\n",
       "      <td>T. Warner</td>\n",
       "      <td>44</td>\n",
       "      <td>Trinidad &amp; Tobago</td>\n",
       "      <td>53</td>\n",
       "      <td>53</td>\n",
       "      <td>Accrington Stanley</td>\n",
       "      <td>NaN</td>\n",
       "      <td>1.0</td>\n",
       "      <td>Right</td>\n",
       "      <td>1.0</td>\n",
       "      <td>1.0</td>\n",
       "      <td>GK</td>\n",
       "      <td>2018</td>\n",
       "      <td>2019-01-01</td>\n",
       "      <td>6.333333</td>\n",
       "      <td>185.0</td>\n",
       "      <td>4585.060806</td>\n",
       "    </tr>\n",
       "    <tr>\n",
       "      <th>17752</th>\n",
       "      <td>100899</td>\n",
       "      <td>S. Phillips</td>\n",
       "      <td>40</td>\n",
       "      <td>England</td>\n",
       "      <td>52</td>\n",
       "      <td>52</td>\n",
       "      <td>Yeovil Town</td>\n",
       "      <td>NaN</td>\n",
       "      <td>1.0</td>\n",
       "      <td>Right</td>\n",
       "      <td>1.0</td>\n",
       "      <td>1.0</td>\n",
       "      <td>GK</td>\n",
       "      <td>2017</td>\n",
       "      <td>2022-01-01</td>\n",
       "      <td>6.083333</td>\n",
       "      <td>165.0</td>\n",
       "      <td>4585.060806</td>\n",
       "    </tr>\n",
       "    <tr>\n",
       "      <th>18183</th>\n",
       "      <td>53748</td>\n",
       "      <td>K. Pilkington</td>\n",
       "      <td>44</td>\n",
       "      <td>England</td>\n",
       "      <td>48</td>\n",
       "      <td>48</td>\n",
       "      <td>Cambridge United</td>\n",
       "      <td>NaN</td>\n",
       "      <td>1.0</td>\n",
       "      <td>Right</td>\n",
       "      <td>1.0</td>\n",
       "      <td>1.0</td>\n",
       "      <td>GK</td>\n",
       "      <td>2018</td>\n",
       "      <td>2023-01-01</td>\n",
       "      <td>6.166667</td>\n",
       "      <td>190.0</td>\n",
       "      <td>4585.060806</td>\n",
       "    </tr>\n",
       "  </tbody>\n",
       "</table>\n",
       "<p>300 rows × 18 columns</p>\n",
       "</div>"
      ],
      "text/plain": [
       "           ID           Name  Age        Nationality  Overall  Potential  \\\n",
       "452    207439     L. Paredes   24          Argentina       80         85   \n",
       "538    156713   A. Granqvist   33             Sweden       80         80   \n",
       "568    229909       A. Lunev   26             Russia       79         81   \n",
       "677    187347   I. Smolnikov   29             Russia       79         79   \n",
       "864    153260         Hilton   40             Brazil       78         78   \n",
       "...       ...            ...  ...                ...      ...        ...   \n",
       "17539  234508       C. Singh   21              India       53         62   \n",
       "17672  237744       R. Kawai   39              Japan       53         53   \n",
       "17726   51963      T. Warner   44  Trinidad & Tobago       53         53   \n",
       "17752  100899    S. Phillips   40            England       52         52   \n",
       "18183   53748  K. Pilkington   44            England       48         48   \n",
       "\n",
       "                             Club  Value  Wage Preferred Foot  \\\n",
       "452                           NaN    NaN   0.0          Right   \n",
       "538                           NaN    NaN   0.0          Right   \n",
       "568                           NaN    NaN   0.0          Right   \n",
       "677                           NaN    NaN   0.0          Right   \n",
       "864               Montpellier HSC    NaN  18.0          Right   \n",
       "...                           ...    ...   ...            ...   \n",
       "17539                         NaN    NaN   0.0          Right   \n",
       "17672  Hokkaido Consadole Sapporo    NaN   1.0          Right   \n",
       "17726          Accrington Stanley    NaN   1.0          Right   \n",
       "17752                 Yeovil Town    NaN   1.0          Right   \n",
       "18183            Cambridge United    NaN   1.0          Right   \n",
       "\n",
       "       International Reputation  Skill Moves Position  Joined  \\\n",
       "452                         2.0          4.0       CM    2016   \n",
       "538                         2.0          2.0      LCB    2016   \n",
       "568                         1.0          1.0       GK    2016   \n",
       "677                         2.0          3.0       RB    2016   \n",
       "864                         2.0          3.0       CB    2011   \n",
       "...                         ...          ...      ...     ...   \n",
       "17539                       1.0          2.0       LB    2016   \n",
       "17672                       1.0          2.0       CB    2011   \n",
       "17726                       1.0          1.0       GK    2018   \n",
       "17752                       1.0          1.0       GK    2017   \n",
       "18183                       1.0          1.0       GK    2018   \n",
       "\n",
       "      Contract Valid Until    Height  Weight  Release Clause  \n",
       "452                    NaT  5.916667   165.0     4585.060806  \n",
       "538                    NaT  6.333333   185.0     4585.060806  \n",
       "568                    NaT  6.166667   176.0     4585.060806  \n",
       "677                    NaT  5.833333   154.0     4585.060806  \n",
       "864             2019-01-01  5.916667   172.0     4585.060806  \n",
       "...                    ...       ...     ...             ...  \n",
       "17539                  NaT  6.250000   174.0     4585.060806  \n",
       "17672           2021-01-01  6.000000   165.0     4585.060806  \n",
       "17726           2019-01-01  6.333333   185.0     4585.060806  \n",
       "17752           2022-01-01  6.083333   165.0     4585.060806  \n",
       "18183           2023-01-01  6.166667   190.0     4585.060806  \n",
       "\n",
       "[300 rows x 18 columns]"
      ]
     },
     "execution_count": 8,
     "metadata": {},
     "output_type": "execute_result"
    }
   ],
   "source": [
    "df[df.isnull().any(axis=1)]"
   ]
  },
  {
   "cell_type": "code",
   "execution_count": 8,
   "id": "7a2f235d",
   "metadata": {},
   "outputs": [
    {
     "data": {
      "text/plain": [
       "18207"
      ]
     },
     "execution_count": 8,
     "metadata": {},
     "output_type": "execute_result"
    }
   ],
   "source": [
    "len(df)"
   ]
  },
  {
   "cell_type": "code",
   "execution_count": 9,
   "id": "99949e3b",
   "metadata": {},
   "outputs": [
    {
     "data": {
      "text/plain": [
       "ID                          0.000000\n",
       "Name                        0.000000\n",
       "Age                         0.000000\n",
       "Nationality                 0.000000\n",
       "Overall                     0.000000\n",
       "Potential                   0.000000\n",
       "Club                        1.323667\n",
       "Value                       1.384083\n",
       "Wage                        0.000000\n",
       "Preferred Foot              0.000000\n",
       "International Reputation    0.263635\n",
       "Skill Moves                 0.263635\n",
       "Position                    0.000000\n",
       "Joined                      0.000000\n",
       "Contract Valid Until        1.587302\n",
       "Height                      0.000000\n",
       "Weight                      0.000000\n",
       "Release Clause              0.000000\n",
       "dtype: float64"
      ]
     },
     "execution_count": 9,
     "metadata": {},
     "output_type": "execute_result"
    }
   ],
   "source": [
    "df.isna().sum() * 100 / len(df)"
   ]
  },
  {
   "cell_type": "code",
   "execution_count": 10,
   "id": "7694b49d",
   "metadata": {},
   "outputs": [],
   "source": [
    "df = df.dropna()"
   ]
  },
  {
   "cell_type": "code",
   "execution_count": 11,
   "id": "89e243e0",
   "metadata": {},
   "outputs": [
    {
     "data": {
      "text/plain": [
       "ID                          0\n",
       "Name                        0\n",
       "Age                         0\n",
       "Nationality                 0\n",
       "Overall                     0\n",
       "Potential                   0\n",
       "Club                        0\n",
       "Value                       0\n",
       "Wage                        0\n",
       "Preferred Foot              0\n",
       "International Reputation    0\n",
       "Skill Moves                 0\n",
       "Position                    0\n",
       "Joined                      0\n",
       "Contract Valid Until        0\n",
       "Height                      0\n",
       "Weight                      0\n",
       "Release Clause              0\n",
       "dtype: int64"
      ]
     },
     "execution_count": 11,
     "metadata": {},
     "output_type": "execute_result"
    }
   ],
   "source": [
    "df.isna().sum()"
   ]
  },
  {
   "cell_type": "markdown",
   "id": "5e73e057",
   "metadata": {},
   "source": [
    "**What is the mean & median Age ?**"
   ]
  },
  {
   "cell_type": "code",
   "execution_count": 16,
   "id": "fe1e9cd2",
   "metadata": {},
   "outputs": [
    {
     "name": "stdout",
     "output_type": "stream",
     "text": [
      "Mean Age is: 25.1 \n",
      "Median Age is: 25.0 \n"
     ]
    }
   ],
   "source": [
    "Mean_Age = df[\"Age\"].mean()\n",
    "Median_Age = df['Age'].median()\n",
    "print(f\"Mean Age is: {Mean_Age:.1f} \")\n",
    "print(f\"Median Age is: {Median_Age} \")"
   ]
  },
  {
   "cell_type": "code",
   "execution_count": 18,
   "id": "3d4399ee",
   "metadata": {},
   "outputs": [
    {
     "name": "stdout",
     "output_type": "stream",
     "text": [
      "mean age is: 25.10\n",
      "median age is: 25.0\n"
     ]
    }
   ],
   "source": [
    "mean_age = df['Age'].mean()\n",
    "median_age = df['Age'].median()\n",
    "print(f'mean age is: {mean_age:.2f}')\n",
    "print(f'median age is: {median_age}')"
   ]
  },
  {
   "cell_type": "markdown",
   "id": "a1221582",
   "metadata": {},
   "source": [
    "**What is the greatest Height? and name of the player with that height?**"
   ]
  },
  {
   "cell_type": "code",
   "execution_count": 19,
   "id": "cdf2a632",
   "metadata": {},
   "outputs": [],
   "source": [
    "df.columns = df.columns.str.lower().str.strip()"
   ]
  },
  {
   "cell_type": "code",
   "execution_count": 20,
   "id": "ec8bd03a",
   "metadata": {},
   "outputs": [
    {
     "data": {
      "text/plain": [
       "np.float64(6.75)"
      ]
     },
     "execution_count": 20,
     "metadata": {},
     "output_type": "execute_result"
    }
   ],
   "source": [
    "df['height'].max()"
   ]
  },
  {
   "cell_type": "code",
   "execution_count": 24,
   "id": "5d00264a",
   "metadata": {},
   "outputs": [
    {
     "data": {
      "text/html": [
       "<div>\n",
       "<style scoped>\n",
       "    .dataframe tbody tr th:only-of-type {\n",
       "        vertical-align: middle;\n",
       "    }\n",
       "\n",
       "    .dataframe tbody tr th {\n",
       "        vertical-align: top;\n",
       "    }\n",
       "\n",
       "    .dataframe thead th {\n",
       "        text-align: right;\n",
       "    }\n",
       "</style>\n",
       "<table border=\"1\" class=\"dataframe\">\n",
       "  <thead>\n",
       "    <tr style=\"text-align: right;\">\n",
       "      <th></th>\n",
       "      <th>height</th>\n",
       "      <th>name</th>\n",
       "    </tr>\n",
       "  </thead>\n",
       "  <tbody>\n",
       "    <tr>\n",
       "      <th>11614</th>\n",
       "      <td>6.75</td>\n",
       "      <td>T. Holý</td>\n",
       "    </tr>\n",
       "    <tr>\n",
       "      <th>17927</th>\n",
       "      <td>6.75</td>\n",
       "      <td>D. Hodzic</td>\n",
       "    </tr>\n",
       "  </tbody>\n",
       "</table>\n",
       "</div>"
      ],
      "text/plain": [
       "       height       name\n",
       "11614    6.75    T. Holý\n",
       "17927    6.75  D. Hodzic"
      ]
     },
     "execution_count": 24,
     "metadata": {},
     "output_type": "execute_result"
    }
   ],
   "source": [
    "df[df['height']== df['height'].max()][['height','name']]"
   ]
  },
  {
   "cell_type": "markdown",
   "id": "66756bd5",
   "metadata": {},
   "source": [
    "**What is the smallest weight? and name of the player with that weight? and for which club plays?**"
   ]
  },
  {
   "cell_type": "code",
   "execution_count": 25,
   "id": "7f22b3ad",
   "metadata": {},
   "outputs": [
    {
     "data": {
      "text/plain": [
       "np.float64(110.0)"
      ]
     },
     "execution_count": 25,
     "metadata": {},
     "output_type": "execute_result"
    }
   ],
   "source": [
    "df['weight'].min()"
   ]
  },
  {
   "cell_type": "code",
   "execution_count": 26,
   "id": "091446c8",
   "metadata": {},
   "outputs": [
    {
     "data": {
      "text/html": [
       "<div>\n",
       "<style scoped>\n",
       "    .dataframe tbody tr th:only-of-type {\n",
       "        vertical-align: middle;\n",
       "    }\n",
       "\n",
       "    .dataframe tbody tr th {\n",
       "        vertical-align: top;\n",
       "    }\n",
       "\n",
       "    .dataframe thead th {\n",
       "        text-align: right;\n",
       "    }\n",
       "</style>\n",
       "<table border=\"1\" class=\"dataframe\">\n",
       "  <thead>\n",
       "    <tr style=\"text-align: right;\">\n",
       "      <th></th>\n",
       "      <th>weight</th>\n",
       "      <th>name</th>\n",
       "    </tr>\n",
       "  </thead>\n",
       "  <tbody>\n",
       "    <tr>\n",
       "      <th>13338</th>\n",
       "      <td>110.0</td>\n",
       "      <td>B. Al Mutairi</td>\n",
       "    </tr>\n",
       "    <tr>\n",
       "      <th>17157</th>\n",
       "      <td>110.0</td>\n",
       "      <td>K. Yamaguchi</td>\n",
       "    </tr>\n",
       "  </tbody>\n",
       "</table>\n",
       "</div>"
      ],
      "text/plain": [
       "       weight           name\n",
       "13338   110.0  B. Al Mutairi\n",
       "17157   110.0   K. Yamaguchi"
      ]
     },
     "execution_count": 26,
     "metadata": {},
     "output_type": "execute_result"
    }
   ],
   "source": [
    "df[df['weight']== df['weight'].min()][['weight','name']]"
   ]
  },
  {
   "cell_type": "markdown",
   "id": "973b87bd",
   "metadata": {},
   "source": [
    "**What is the position of Cristiano Ronaldo?**"
   ]
  },
  {
   "cell_type": "code",
   "execution_count": 29,
   "id": "2aafbd89",
   "metadata": {},
   "outputs": [
    {
     "data": {
      "text/plain": [
       "1    ST\n",
       "Name: position, dtype: object"
      ]
     },
     "execution_count": 29,
     "metadata": {},
     "output_type": "execute_result"
    }
   ],
   "source": [
    "df[df['name']== 'Cristiano Ronaldo']['position']"
   ]
  },
  {
   "cell_type": "markdown",
   "id": "a7c61aae",
   "metadata": {},
   "source": [
    "**What was the average (mean) Value of all players per year(Joined column) ?**"
   ]
  },
  {
   "cell_type": "code",
   "execution_count": 32,
   "id": "e3d9c764",
   "metadata": {},
   "outputs": [],
   "source": [
    "df['year']= df['contract valid until'].dt.year"
   ]
  },
  {
   "cell_type": "code",
   "execution_count": 36,
   "id": "67bef1a2",
   "metadata": {},
   "outputs": [
    {
     "data": {
      "text/html": [
       "<div>\n",
       "<style scoped>\n",
       "    .dataframe tbody tr th:only-of-type {\n",
       "        vertical-align: middle;\n",
       "    }\n",
       "\n",
       "    .dataframe tbody tr th {\n",
       "        vertical-align: top;\n",
       "    }\n",
       "\n",
       "    .dataframe thead th {\n",
       "        text-align: right;\n",
       "    }\n",
       "</style>\n",
       "<table border=\"1\" class=\"dataframe\">\n",
       "  <thead>\n",
       "    <tr style=\"text-align: right;\">\n",
       "      <th></th>\n",
       "      <th>year</th>\n",
       "      <th>value</th>\n",
       "    </tr>\n",
       "  </thead>\n",
       "  <tbody>\n",
       "    <tr>\n",
       "      <th>0</th>\n",
       "      <td>2018</td>\n",
       "      <td>961.986434</td>\n",
       "    </tr>\n",
       "    <tr>\n",
       "      <th>1</th>\n",
       "      <td>2019</td>\n",
       "      <td>1504.916314</td>\n",
       "    </tr>\n",
       "    <tr>\n",
       "      <th>2</th>\n",
       "      <td>2020</td>\n",
       "      <td>2135.631800</td>\n",
       "    </tr>\n",
       "    <tr>\n",
       "      <th>3</th>\n",
       "      <td>2021</td>\n",
       "      <td>2572.085819</td>\n",
       "    </tr>\n",
       "    <tr>\n",
       "      <th>4</th>\n",
       "      <td>2022</td>\n",
       "      <td>5485.006780</td>\n",
       "    </tr>\n",
       "    <tr>\n",
       "      <th>5</th>\n",
       "      <td>2023</td>\n",
       "      <td>5067.997146</td>\n",
       "    </tr>\n",
       "    <tr>\n",
       "      <th>6</th>\n",
       "      <td>2024</td>\n",
       "      <td>24042.391304</td>\n",
       "    </tr>\n",
       "    <tr>\n",
       "      <th>7</th>\n",
       "      <td>2025</td>\n",
       "      <td>16230.000000</td>\n",
       "    </tr>\n",
       "    <tr>\n",
       "      <th>8</th>\n",
       "      <td>2026</td>\n",
       "      <td>25550.000000</td>\n",
       "    </tr>\n",
       "  </tbody>\n",
       "</table>\n",
       "</div>"
      ],
      "text/plain": [
       "   year         value\n",
       "0  2018    961.986434\n",
       "1  2019   1504.916314\n",
       "2  2020   2135.631800\n",
       "3  2021   2572.085819\n",
       "4  2022   5485.006780\n",
       "5  2023   5067.997146\n",
       "6  2024  24042.391304\n",
       "7  2025  16230.000000\n",
       "8  2026  25550.000000"
      ]
     },
     "execution_count": 36,
     "metadata": {},
     "output_type": "execute_result"
    }
   ],
   "source": [
    "df.groupby('year')['value'].mean().reset_index()"
   ]
  },
  {
   "cell_type": "markdown",
   "id": "cba09748",
   "metadata": {},
   "source": [
    "**get Number of players for each club**"
   ]
  },
  {
   "cell_type": "code",
   "execution_count": 37,
   "id": "bfd6f2db",
   "metadata": {},
   "outputs": [
    {
     "data": {
      "text/html": [
       "<div>\n",
       "<style scoped>\n",
       "    .dataframe tbody tr th:only-of-type {\n",
       "        vertical-align: middle;\n",
       "    }\n",
       "\n",
       "    .dataframe tbody tr th {\n",
       "        vertical-align: top;\n",
       "    }\n",
       "\n",
       "    .dataframe thead th {\n",
       "        text-align: right;\n",
       "    }\n",
       "</style>\n",
       "<table border=\"1\" class=\"dataframe\">\n",
       "  <thead>\n",
       "    <tr style=\"text-align: right;\">\n",
       "      <th></th>\n",
       "      <th>club</th>\n",
       "      <th>id</th>\n",
       "    </tr>\n",
       "  </thead>\n",
       "  <tbody>\n",
       "    <tr>\n",
       "      <th>0</th>\n",
       "      <td>SSV Jahn Regensburg</td>\n",
       "      <td>29</td>\n",
       "    </tr>\n",
       "    <tr>\n",
       "      <th>1</th>\n",
       "      <td>1. FC Heidenheim 1846</td>\n",
       "      <td>28</td>\n",
       "    </tr>\n",
       "    <tr>\n",
       "      <th>2</th>\n",
       "      <td>1. FC Kaiserslautern</td>\n",
       "      <td>26</td>\n",
       "    </tr>\n",
       "    <tr>\n",
       "      <th>3</th>\n",
       "      <td>1. FC Köln</td>\n",
       "      <td>28</td>\n",
       "    </tr>\n",
       "    <tr>\n",
       "      <th>4</th>\n",
       "      <td>1. FC Magdeburg</td>\n",
       "      <td>26</td>\n",
       "    </tr>\n",
       "    <tr>\n",
       "      <th>...</th>\n",
       "      <td>...</td>\n",
       "      <td>...</td>\n",
       "    </tr>\n",
       "    <tr>\n",
       "      <th>646</th>\n",
       "      <td>Zagłębie Sosnowiec</td>\n",
       "      <td>25</td>\n",
       "    </tr>\n",
       "    <tr>\n",
       "      <th>647</th>\n",
       "      <td>Çaykur Rizespor</td>\n",
       "      <td>30</td>\n",
       "    </tr>\n",
       "    <tr>\n",
       "      <th>648</th>\n",
       "      <td>Örebro SK</td>\n",
       "      <td>27</td>\n",
       "    </tr>\n",
       "    <tr>\n",
       "      <th>649</th>\n",
       "      <td>Östersunds FK</td>\n",
       "      <td>22</td>\n",
       "    </tr>\n",
       "    <tr>\n",
       "      <th>650</th>\n",
       "      <td>Śląsk Wrocław</td>\n",
       "      <td>24</td>\n",
       "    </tr>\n",
       "  </tbody>\n",
       "</table>\n",
       "<p>651 rows × 2 columns</p>\n",
       "</div>"
      ],
      "text/plain": [
       "                      club  id\n",
       "0      SSV Jahn Regensburg  29\n",
       "1    1. FC Heidenheim 1846  28\n",
       "2     1. FC Kaiserslautern  26\n",
       "3               1. FC Köln  28\n",
       "4          1. FC Magdeburg  26\n",
       "..                     ...  ..\n",
       "646     Zagłębie Sosnowiec  25\n",
       "647        Çaykur Rizespor  30\n",
       "648              Örebro SK  27\n",
       "649          Östersunds FK  22\n",
       "650          Śląsk Wrocław  24\n",
       "\n",
       "[651 rows x 2 columns]"
      ]
     },
     "execution_count": 37,
     "metadata": {},
     "output_type": "execute_result"
    }
   ],
   "source": [
    "df.groupby('club')['id'].count().reset_index()"
   ]
  },
  {
   "cell_type": "markdown",
   "id": "a316bf69",
   "metadata": {},
   "source": [
    "**How many unique Clubs are there?**"
   ]
  },
  {
   "cell_type": "code",
   "execution_count": 38,
   "id": "18030765",
   "metadata": {},
   "outputs": [
    {
     "data": {
      "text/plain": [
       "651"
      ]
     },
     "execution_count": 38,
     "metadata": {},
     "output_type": "execute_result"
    }
   ],
   "source": [
    "df['club'].nunique()"
   ]
  },
  {
   "cell_type": "markdown",
   "id": "f3ef1f5d",
   "metadata": {},
   "source": [
    "**What are the top 5 most common positions?**"
   ]
  },
  {
   "cell_type": "code",
   "execution_count": 39,
   "id": "112b0390",
   "metadata": {},
   "outputs": [
    {
     "data": {
      "text/html": [
       "<div>\n",
       "<style scoped>\n",
       "    .dataframe tbody tr th:only-of-type {\n",
       "        vertical-align: middle;\n",
       "    }\n",
       "\n",
       "    .dataframe tbody tr th {\n",
       "        vertical-align: top;\n",
       "    }\n",
       "\n",
       "    .dataframe thead th {\n",
       "        text-align: right;\n",
       "    }\n",
       "</style>\n",
       "<table border=\"1\" class=\"dataframe\">\n",
       "  <thead>\n",
       "    <tr style=\"text-align: right;\">\n",
       "      <th></th>\n",
       "      <th>position</th>\n",
       "      <th>count</th>\n",
       "    </tr>\n",
       "  </thead>\n",
       "  <tbody>\n",
       "    <tr>\n",
       "      <th>0</th>\n",
       "      <td>ST</td>\n",
       "      <td>2130</td>\n",
       "    </tr>\n",
       "    <tr>\n",
       "      <th>1</th>\n",
       "      <td>GK</td>\n",
       "      <td>1989</td>\n",
       "    </tr>\n",
       "    <tr>\n",
       "      <th>2</th>\n",
       "      <td>CB</td>\n",
       "      <td>1751</td>\n",
       "    </tr>\n",
       "    <tr>\n",
       "      <th>3</th>\n",
       "      <td>CM</td>\n",
       "      <td>1377</td>\n",
       "    </tr>\n",
       "    <tr>\n",
       "      <th>4</th>\n",
       "      <td>LB</td>\n",
       "      <td>1304</td>\n",
       "    </tr>\n",
       "  </tbody>\n",
       "</table>\n",
       "</div>"
      ],
      "text/plain": [
       "  position  count\n",
       "0       ST   2130\n",
       "1       GK   1989\n",
       "2       CB   1751\n",
       "3       CM   1377\n",
       "4       LB   1304"
      ]
     },
     "execution_count": 39,
     "metadata": {},
     "output_type": "execute_result"
    }
   ],
   "source": [
    "df['position'].value_counts().head(5).reset_index()"
   ]
  },
  {
   "cell_type": "code",
   "execution_count": null,
   "id": "9b51f8e2",
   "metadata": {},
   "outputs": [],
   "source": []
  },
  {
   "cell_type": "markdown",
   "id": "dd436707",
   "metadata": {},
   "source": [
    "**What are the top 5 most common nationality?**"
   ]
  },
  {
   "cell_type": "code",
   "execution_count": 40,
   "id": "b2e42ab1",
   "metadata": {},
   "outputs": [
    {
     "data": {
      "text/html": [
       "<div>\n",
       "<style scoped>\n",
       "    .dataframe tbody tr th:only-of-type {\n",
       "        vertical-align: middle;\n",
       "    }\n",
       "\n",
       "    .dataframe tbody tr th {\n",
       "        vertical-align: top;\n",
       "    }\n",
       "\n",
       "    .dataframe thead th {\n",
       "        text-align: right;\n",
       "    }\n",
       "</style>\n",
       "<table border=\"1\" class=\"dataframe\">\n",
       "  <thead>\n",
       "    <tr style=\"text-align: right;\">\n",
       "      <th></th>\n",
       "      <th>nationality</th>\n",
       "      <th>count</th>\n",
       "    </tr>\n",
       "  </thead>\n",
       "  <tbody>\n",
       "    <tr>\n",
       "      <th>0</th>\n",
       "      <td>England</td>\n",
       "      <td>1655</td>\n",
       "    </tr>\n",
       "    <tr>\n",
       "      <th>1</th>\n",
       "      <td>Germany</td>\n",
       "      <td>1195</td>\n",
       "    </tr>\n",
       "    <tr>\n",
       "      <th>2</th>\n",
       "      <td>Spain</td>\n",
       "      <td>1071</td>\n",
       "    </tr>\n",
       "    <tr>\n",
       "      <th>3</th>\n",
       "      <td>Argentina</td>\n",
       "      <td>935</td>\n",
       "    </tr>\n",
       "    <tr>\n",
       "      <th>4</th>\n",
       "      <td>France</td>\n",
       "      <td>910</td>\n",
       "    </tr>\n",
       "  </tbody>\n",
       "</table>\n",
       "</div>"
      ],
      "text/plain": [
       "  nationality  count\n",
       "0     England   1655\n",
       "1     Germany   1195\n",
       "2       Spain   1071\n",
       "3   Argentina    935\n",
       "4      France    910"
      ]
     },
     "execution_count": 40,
     "metadata": {},
     "output_type": "execute_result"
    }
   ],
   "source": [
    "df['nationality'].value_counts().head(5).reset_index()"
   ]
  },
  {
   "cell_type": "markdown",
   "id": "139f9802",
   "metadata": {},
   "source": [
    "**What are the names of players has Egyptian Nationality?**"
   ]
  },
  {
   "cell_type": "code",
   "execution_count": 45,
   "id": "16bc6538",
   "metadata": {},
   "outputs": [
    {
     "data": {
      "text/plain": [
       "26             M. Salah\n",
       "752           Trezeguet\n",
       "959           M. Elneny\n",
       "1517          A. Hegazi\n",
       "2241          A. Hassan\n",
       "2334           R. Sobhi\n",
       "3310      A. Elmohamady\n",
       "3616           A. Warda\n",
       "3929          A. Ghazal\n",
       "4044           A. Tarek\n",
       "4504         A. El Said\n",
       "5944           S. Morsy\n",
       "7102     M. Abdul Shafy\n",
       "8325          A. El-Abd\n",
       "9228        H. El Sayed\n",
       "9297            M. Awad\n",
       "9514        A. Jakobsen\n",
       "9665           K. Hafez\n",
       "10672           M. Atwa\n",
       "13891        A. Mostafa\n",
       "Name: name, dtype: object"
      ]
     },
     "execution_count": 45,
     "metadata": {},
     "output_type": "execute_result"
    }
   ],
   "source": [
    "df['name'][df['nationality']== 'Egypt']"
   ]
  },
  {
   "cell_type": "markdown",
   "id": "992466bd",
   "metadata": {},
   "source": [
    "**How many players joined in 2018 with skill moves=2?** "
   ]
  },
  {
   "cell_type": "code",
   "execution_count": 55,
   "id": "037b43c1",
   "metadata": {},
   "outputs": [
    {
     "data": {
      "text/plain": [
       "3295"
      ]
     },
     "execution_count": 55,
     "metadata": {},
     "output_type": "execute_result"
    }
   ],
   "source": [
    "df[(df['joined']==2018) & (df['skill moves']== 2)].shape[0]"
   ]
  },
  {
   "cell_type": "markdown",
   "id": "8d1b405f",
   "metadata": {},
   "source": [
    "**How many players whom name starts with letter  'M'? (This is pretty tricky)**"
   ]
  },
  {
   "cell_type": "code",
   "execution_count": 56,
   "id": "2ea77163",
   "metadata": {},
   "outputs": [
    {
     "data": {
      "text/plain": [
       "1948"
      ]
     },
     "execution_count": 56,
     "metadata": {},
     "output_type": "execute_result"
    }
   ],
   "source": [
    "df[df['name'].str.startswith('M')].shape[0]"
   ]
  },
  {
   "cell_type": "markdown",
   "id": "05bb6486",
   "metadata": {},
   "source": [
    "**Bonus: Is there a correlation between International Reputation and Wage?**"
   ]
  },
  {
   "cell_type": "code",
   "execution_count": 58,
   "id": "ef15bc0e",
   "metadata": {},
   "outputs": [
    {
     "data": {
      "text/html": [
       "<div>\n",
       "<style scoped>\n",
       "    .dataframe tbody tr th:only-of-type {\n",
       "        vertical-align: middle;\n",
       "    }\n",
       "\n",
       "    .dataframe tbody tr th {\n",
       "        vertical-align: top;\n",
       "    }\n",
       "\n",
       "    .dataframe thead th {\n",
       "        text-align: right;\n",
       "    }\n",
       "</style>\n",
       "<table border=\"1\" class=\"dataframe\">\n",
       "  <thead>\n",
       "    <tr style=\"text-align: right;\">\n",
       "      <th></th>\n",
       "      <th>international reputation</th>\n",
       "      <th>wage</th>\n",
       "    </tr>\n",
       "  </thead>\n",
       "  <tbody>\n",
       "    <tr>\n",
       "      <th>international reputation</th>\n",
       "      <td>1.000000</td>\n",
       "      <td>0.671543</td>\n",
       "    </tr>\n",
       "    <tr>\n",
       "      <th>wage</th>\n",
       "      <td>0.671543</td>\n",
       "      <td>1.000000</td>\n",
       "    </tr>\n",
       "  </tbody>\n",
       "</table>\n",
       "</div>"
      ],
      "text/plain": [
       "                          international reputation      wage\n",
       "international reputation                  1.000000  0.671543\n",
       "wage                                      0.671543  1.000000"
      ]
     },
     "execution_count": 58,
     "metadata": {},
     "output_type": "execute_result"
    }
   ],
   "source": [
    "df[['international reputation' , 'wage']].corr()"
   ]
  },
  {
   "cell_type": "code",
   "execution_count": null,
   "id": "8909cb73",
   "metadata": {},
   "outputs": [],
   "source": []
  },
  {
   "cell_type": "markdown",
   "id": "fc0eb0fb",
   "metadata": {},
   "source": [
    "---"
   ]
  }
 ],
 "metadata": {
  "kernelspec": {
   "display_name": "Python 3 (ipykernel)",
   "language": "python",
   "name": "python3"
  },
  "language_info": {
   "codemirror_mode": {
    "name": "ipython",
    "version": 3
   },
   "file_extension": ".py",
   "mimetype": "text/x-python",
   "name": "python",
   "nbconvert_exporter": "python",
   "pygments_lexer": "ipython3",
   "version": "3.11.9"
  },
  "varInspector": {
   "cols": {
    "lenName": 16,
    "lenType": 16,
    "lenVar": 40
   },
   "kernels_config": {
    "python": {
     "delete_cmd_postfix": "",
     "delete_cmd_prefix": "del ",
     "library": "var_list.py",
     "varRefreshCmd": "print(var_dic_list())"
    },
    "r": {
     "delete_cmd_postfix": ") ",
     "delete_cmd_prefix": "rm(",
     "library": "var_list.r",
     "varRefreshCmd": "cat(var_dic_list()) "
    }
   },
   "types_to_exclude": [
    "module",
    "function",
    "builtin_function_or_method",
    "instance",
    "_Feature"
   ],
   "window_display": false
  }
 },
 "nbformat": 4,
 "nbformat_minor": 5
}
